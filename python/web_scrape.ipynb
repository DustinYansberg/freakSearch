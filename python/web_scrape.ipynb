{
 "cells": [
  {
   "cell_type": "code",
   "execution_count": 1,
   "metadata": {},
   "outputs": [],
   "source": [
    "import pandas as pd\n",
    "import requests\n",
    "from bs4 import BeautifulSoup"
   ]
  },
  {
   "cell_type": "code",
   "execution_count": 2,
   "metadata": {},
   "outputs": [],
   "source": [
    "url = 'https://freakonomics.com/series-full/freakonomics-radio/'"
   ]
  },
  {
   "cell_type": "code",
   "execution_count": 3,
   "metadata": {},
   "outputs": [],
   "source": [
    "res = requests.get(url)"
   ]
  },
  {
   "cell_type": "code",
   "execution_count": 4,
   "metadata": {},
   "outputs": [
    {
     "data": {
      "text/plain": [
       "200"
      ]
     },
     "execution_count": 4,
     "metadata": {},
     "output_type": "execute_result"
    }
   ],
   "source": [
    "res.status_code"
   ]
  },
  {
   "cell_type": "code",
   "execution_count": 5,
   "metadata": {},
   "outputs": [],
   "source": [
    "soup = BeautifulSoup(res.content, 'html.parser')"
   ]
  },
  {
   "cell_type": "code",
   "execution_count": 6,
   "metadata": {},
   "outputs": [],
   "source": [
    "archive_entry = soup.find_all('div', class_=\"archive_entry\")"
   ]
  },
  {
   "cell_type": "code",
   "execution_count": 17,
   "metadata": {},
   "outputs": [],
   "source": [
    "episode_numbers = []\n",
    "episode_links = []\n",
    "episode_titles = []\n",
    "episode_summaries=[]\n",
    "episode_transcripts = []"
   ]
  },
  {
   "cell_type": "code",
   "execution_count": 18,
   "metadata": {},
   "outputs": [],
   "source": [
    "\n",
    "for entry in archive_entry:\n",
    "    h5 = entry.find('h5')\n",
    "    h3= entry.find('h3')\n",
    "    p = entry.find('p')\n",
    "    if h5 is not None:\n",
    "        episode_numbers.append(h5.text)\n",
    "    if h3 is not None:\n",
    "        episode_titles.append(h3.text)\n",
    "        if h3.a is not None:\n",
    "            episode_links.append(h3.a['href'])\n",
    "    if p is not None:\n",
    "        episode_summaries.append(p.text)\n",
    "    \n",
    "        \n"
   ]
  },
  {
   "cell_type": "code",
   "execution_count": null,
   "metadata": {},
   "outputs": [],
   "source": [
    "for link in episode_links:\n",
    "    print(link)"
   ]
  },
  {
   "cell_type": "code",
   "execution_count": 21,
   "metadata": {},
   "outputs": [],
   "source": [
    "for link in episode_links:\n",
    "    res = requests.get(link)\n",
    "    soup = BeautifulSoup(res.content, 'html.parser')\n",
    "    transcript = soup.find('div', id='transcript')\n",
    "    if transcript is not None:\n",
    "        episode_transcripts.append(transcript.text)\n",
    "    else:\n",
    "        episode_transcripts.append(\"N/A\")\n",
    "    "
   ]
  },
  {
   "cell_type": "code",
   "execution_count": 23,
   "metadata": {},
   "outputs": [],
   "source": [
    "episodes = pd.DataFrame({'episode_number':episode_numbers, 'episode_title':episode_titles, 'episode_summary': episode_summaries, 'episode_link':episode_links, 'episode_transcript':episode_transcripts})"
   ]
  },
  {
   "cell_type": "code",
   "execution_count": 24,
   "metadata": {},
   "outputs": [
    {
     "data": {
      "text/html": [
       "<div>\n",
       "<style scoped>\n",
       "    .dataframe tbody tr th:only-of-type {\n",
       "        vertical-align: middle;\n",
       "    }\n",
       "\n",
       "    .dataframe tbody tr th {\n",
       "        vertical-align: top;\n",
       "    }\n",
       "\n",
       "    .dataframe thead th {\n",
       "        text-align: right;\n",
       "    }\n",
       "</style>\n",
       "<table border=\"1\" class=\"dataframe\">\n",
       "  <thead>\n",
       "    <tr style=\"text-align: right;\">\n",
       "      <th></th>\n",
       "      <th>episode_number</th>\n",
       "      <th>episode_title</th>\n",
       "      <th>episode_summary</th>\n",
       "      <th>episode_link</th>\n",
       "      <th>episode_transcript</th>\n",
       "    </tr>\n",
       "  </thead>\n",
       "  <tbody>\n",
       "    <tr>\n",
       "      <th>0</th>\n",
       "      <td>\\nPLUS\\n</td>\n",
       "      <td>“Apply Thinking to Everything”</td>\n",
       "      <td>Stephen Wolfram remembers his mentor Richard F...</td>\n",
       "      <td>https://freakonomics.com/podcast/apply-thinkin...</td>\n",
       "      <td>N/A</td>\n",
       "    </tr>\n",
       "    <tr>\n",
       "      <th>1</th>\n",
       "      <td>\\nNo. 576\\n</td>\n",
       "      <td>The Brilliant Mr. Feynman</td>\n",
       "      <td>What happens when an existentially depressed a...</td>\n",
       "      <td>https://freakonomics.com/podcast/the-brilliant...</td>\n",
       "      <td>\\nOn July 16th, 1945, a team of U.S. scientist...</td>\n",
       "    </tr>\n",
       "    <tr>\n",
       "      <th>2</th>\n",
       "      <td>\\nBONUS\\n</td>\n",
       "      <td>How the San Francisco 49ers Stopped Being Lose...</td>\n",
       "      <td>They’re heading to the Super Bowl for the seco...</td>\n",
       "      <td>https://freakonomics.com/podcast/how-the-san-f...</td>\n",
       "      <td>\\nHey there, it’s Stephen Dubner. It’s time fo...</td>\n",
       "    </tr>\n",
       "    <tr>\n",
       "      <th>3</th>\n",
       "      <td>\\nPLUS\\n</td>\n",
       "      <td>Growing Up Feynman</td>\n",
       "      <td>Michelle Feynman remembers her physicist fathe...</td>\n",
       "      <td>https://freakonomics.com/podcast/growing-up-fe...</td>\n",
       "      <td>N/A</td>\n",
       "    </tr>\n",
       "    <tr>\n",
       "      <th>4</th>\n",
       "      <td>\\nNo. 575\\n</td>\n",
       "      <td>The Curious Mr. Feynman</td>\n",
       "      <td>From the Manhattan Project to the Challenger i...</td>\n",
       "      <td>https://freakonomics.com/podcast/the-curious-m...</td>\n",
       "      <td>\\nMICHELLE FEYNMAN: So, a little scrap of pape...</td>\n",
       "    </tr>\n",
       "    <tr>\n",
       "      <th>...</th>\n",
       "      <td>...</td>\n",
       "      <td>...</td>\n",
       "      <td>...</td>\n",
       "      <td>...</td>\n",
       "      <td>...</td>\n",
       "    </tr>\n",
       "    <tr>\n",
       "      <th>745</th>\n",
       "      <td>\\nNo. 5\\n</td>\n",
       "      <td>How Is a Bad Radio Station Like the Public Sch...</td>\n",
       "      <td>In this episode of Freakonomics Radio, we expl...</td>\n",
       "      <td>https://freakonomics.com/podcast/how-is-a-bad-...</td>\n",
       "      <td>\\nYou’ve been there: it’s impossible to find a...</td>\n",
       "    </tr>\n",
       "    <tr>\n",
       "      <th>746</th>\n",
       "      <td>\\nNo. 4\\n</td>\n",
       "      <td>Faking It</td>\n",
       "      <td>Do you “fake it?” If so, you’re hardly alone. ...</td>\n",
       "      <td>https://freakonomics.com/podcast/faking-it/</td>\n",
       "      <td>\\nStephen J. DUBNER: You keep kosher. How kosh...</td>\n",
       "    </tr>\n",
       "    <tr>\n",
       "      <th>747</th>\n",
       "      <td>\\nNo. 3\\n</td>\n",
       "      <td>What Would the World Look Like if Economists W...</td>\n",
       "      <td>In this episode, we speculate what would happe...</td>\n",
       "      <td>https://freakonomics.com/podcast/what-would-th...</td>\n",
       "      <td>\\nStephen J. DUBNER: If you would please just ...</td>\n",
       "    </tr>\n",
       "    <tr>\n",
       "      <th>748</th>\n",
       "      <td>\\nNo. 2\\n</td>\n",
       "      <td>Is America’s Obesity Epidemic For Real?</td>\n",
       "      <td>Americans keep putting on pounds. So is it tim...</td>\n",
       "      <td>https://freakonomics.com/podcast/is-americas-o...</td>\n",
       "      <td>\\nThere are a lot of reasons to come to New Yo...</td>\n",
       "    </tr>\n",
       "    <tr>\n",
       "      <th>749</th>\n",
       "      <td>\\nNo. 1\\n</td>\n",
       "      <td>The Dangers of Safety</td>\n",
       "      <td>In the first episode (subscribe at iTunes; or ...</td>\n",
       "      <td>https://freakonomics.com/podcast/the-dangers-o...</td>\n",
       "      <td>\\nStephen J. DUBNER: What comes to mind risk w...</td>\n",
       "    </tr>\n",
       "  </tbody>\n",
       "</table>\n",
       "<p>750 rows × 5 columns</p>\n",
       "</div>"
      ],
      "text/plain": [
       "    episode_number                                      episode_title  \\\n",
       "0         \\nPLUS\\n                     “Apply Thinking to Everything”   \n",
       "1      \\nNo. 576\\n                          The Brilliant Mr. Feynman   \n",
       "2        \\nBONUS\\n  How the San Francisco 49ers Stopped Being Lose...   \n",
       "3         \\nPLUS\\n                                 Growing Up Feynman   \n",
       "4      \\nNo. 575\\n                            The Curious Mr. Feynman   \n",
       "..             ...                                                ...   \n",
       "745      \\nNo. 5\\n  How Is a Bad Radio Station Like the Public Sch...   \n",
       "746      \\nNo. 4\\n                                          Faking It   \n",
       "747      \\nNo. 3\\n  What Would the World Look Like if Economists W...   \n",
       "748      \\nNo. 2\\n            Is America’s Obesity Epidemic For Real?   \n",
       "749      \\nNo. 1\\n                              The Dangers of Safety   \n",
       "\n",
       "                                       episode_summary  \\\n",
       "0    Stephen Wolfram remembers his mentor Richard F...   \n",
       "1    What happens when an existentially depressed a...   \n",
       "2    They’re heading to the Super Bowl for the seco...   \n",
       "3    Michelle Feynman remembers her physicist fathe...   \n",
       "4    From the Manhattan Project to the Challenger i...   \n",
       "..                                                 ...   \n",
       "745  In this episode of Freakonomics Radio, we expl...   \n",
       "746  Do you “fake it?” If so, you’re hardly alone. ...   \n",
       "747  In this episode, we speculate what would happe...   \n",
       "748  Americans keep putting on pounds. So is it tim...   \n",
       "749  In the first episode (subscribe at iTunes; or ...   \n",
       "\n",
       "                                          episode_link  \\\n",
       "0    https://freakonomics.com/podcast/apply-thinkin...   \n",
       "1    https://freakonomics.com/podcast/the-brilliant...   \n",
       "2    https://freakonomics.com/podcast/how-the-san-f...   \n",
       "3    https://freakonomics.com/podcast/growing-up-fe...   \n",
       "4    https://freakonomics.com/podcast/the-curious-m...   \n",
       "..                                                 ...   \n",
       "745  https://freakonomics.com/podcast/how-is-a-bad-...   \n",
       "746        https://freakonomics.com/podcast/faking-it/   \n",
       "747  https://freakonomics.com/podcast/what-would-th...   \n",
       "748  https://freakonomics.com/podcast/is-americas-o...   \n",
       "749  https://freakonomics.com/podcast/the-dangers-o...   \n",
       "\n",
       "                                    episode_transcript  \n",
       "0                                                  N/A  \n",
       "1    \\nOn July 16th, 1945, a team of U.S. scientist...  \n",
       "2    \\nHey there, it’s Stephen Dubner. It’s time fo...  \n",
       "3                                                  N/A  \n",
       "4    \\nMICHELLE FEYNMAN: So, a little scrap of pape...  \n",
       "..                                                 ...  \n",
       "745  \\nYou’ve been there: it’s impossible to find a...  \n",
       "746  \\nStephen J. DUBNER: You keep kosher. How kosh...  \n",
       "747  \\nStephen J. DUBNER: If you would please just ...  \n",
       "748  \\nThere are a lot of reasons to come to New Yo...  \n",
       "749  \\nStephen J. DUBNER: What comes to mind risk w...  \n",
       "\n",
       "[750 rows x 5 columns]"
      ]
     },
     "execution_count": 24,
     "metadata": {},
     "output_type": "execute_result"
    }
   ],
   "source": [
    "episodes"
   ]
  },
  {
   "cell_type": "code",
   "execution_count": 27,
   "metadata": {},
   "outputs": [],
   "source": [
    "# episodes.to_csv('extracted_content.csv')\n",
    "episodes.to_excel('extracted_content.xlsx')"
   ]
  }
 ],
 "metadata": {
  "kernelspec": {
   "display_name": "python-b3HVHvj9",
   "language": "python",
   "name": "python3"
  },
  "language_info": {
   "codemirror_mode": {
    "name": "ipython",
    "version": 3
   },
   "file_extension": ".py",
   "mimetype": "text/x-python",
   "name": "python",
   "nbconvert_exporter": "python",
   "pygments_lexer": "ipython3",
   "version": "3.11.4"
  }
 },
 "nbformat": 4,
 "nbformat_minor": 2
}
